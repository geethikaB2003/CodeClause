{
 "cells": [
  {
   "cell_type": "code",
   "execution_count": 1,
   "id": "5272fde2-ecf9-41d7-869b-0b75f5c8f8a4",
   "metadata": {
    "tags": []
   },
   "outputs": [
    {
     "ename": "ModuleNotFoundError",
     "evalue": "No module named 'pygame'",
     "output_type": "error",
     "traceback": [
      "\u001b[1;31m---------------------------------------------------------------------------\u001b[0m",
      "\u001b[1;31mModuleNotFoundError\u001b[0m                       Traceback (most recent call last)",
      "\u001b[1;32mc:\\Users\\bgeet\\Downloads\\codeclause task1.ipynb Cell 1\u001b[0m line \u001b[0;36m3\n\u001b[0;32m      <a href='vscode-notebook-cell:/c%3A/Users/bgeet/Downloads/codeclause%20task1.ipynb#W0sZmlsZQ%3D%3D?line=0'>1</a>\u001b[0m \u001b[39m# import all the required packages\u001b[39;00m\n\u001b[0;32m      <a href='vscode-notebook-cell:/c%3A/Users/bgeet/Downloads/codeclause%20task1.ipynb#W0sZmlsZQ%3D%3D?line=1'>2</a>\u001b[0m \u001b[39mfrom\u001b[39;00m \u001b[39mtkinter\u001b[39;00m \u001b[39mimport\u001b[39;00m \u001b[39m*\u001b[39m\n\u001b[1;32m----> <a href='vscode-notebook-cell:/c%3A/Users/bgeet/Downloads/codeclause%20task1.ipynb#W0sZmlsZQ%3D%3D?line=2'>3</a>\u001b[0m \u001b[39mfrom\u001b[39;00m \u001b[39mpygame\u001b[39;00m \u001b[39mimport\u001b[39;00m mixer\n\u001b[0;32m      <a href='vscode-notebook-cell:/c%3A/Users/bgeet/Downloads/codeclause%20task1.ipynb#W0sZmlsZQ%3D%3D?line=3'>4</a>\u001b[0m \u001b[39mimport\u001b[39;00m \u001b[39mos\u001b[39;00m\n\u001b[0;32m      <a href='vscode-notebook-cell:/c%3A/Users/bgeet/Downloads/codeclause%20task1.ipynb#W0sZmlsZQ%3D%3D?line=5'>6</a>\u001b[0m \u001b[39m# Creating interface or root window\u001b[39;00m\n",
      "\u001b[1;31mModuleNotFoundError\u001b[0m: No module named 'pygame'"
     ]
    }
   ],
   "source": [
    "# import all the required packages\n",
    "from tkinter import *\n",
    "from pygame import mixer\n",
    "import os\n",
    "\n",
    "# Creating interface or root window\n",
    "root=Tk()\n",
    "\n",
    "# To make the size of the window static\n",
    "root.resizable(0,0)\n",
    "\n",
    "# To Insert a title to the created root window\n",
    "root.title('Music Player')\n",
    "\n",
    "# Function to play the song\n",
    "def play():\n",
    "    currentsong=playlist.get(ACTIVE)\n",
    "    mixer.music.load(currentsong)\n",
    "    mixer.music.play()\n",
    "\n",
    "# Function to pause the song which is currently playing\n",
    "def pause():\n",
    "    mixer.music.pause()\n",
    "\n",
    "# Function to resume the song which has paused\n",
    "def resume():\n",
    "    mixer.music.unpause()\n",
    "\n",
    "\n",
    "# Function to stop the currently playing song\n",
    "def stop():\n",
    "    mixer.music.stop()\n",
    "\n",
    "# Intilaizing the mixer module\n",
    "mixer.init()\n",
    "\n",
    "# Creating a listbox where the list of songs are going to be displayed\n",
    "playlist = Listbox(root, selectmode=SINGLE, bg=\"black\", fg=\"white\", font=('arial', 15), width=30)\n",
    "playlist.grid(columnspan=4)\n",
    "\n",
    "# Specifying the path from where the list of songs need to displayed on the root window\n",
    "os.chdir = os.chdir(r\"C:\\Users\\bgeet\\OneDrive\\Desktop\\music\")\n",
    "songs = os.listdir()\n",
    "for s in songs:\n",
    "    playlist.insert(END, s)\n",
    "\n",
    "# Creating button which is used to control the play,pause,resume and stop the song\n",
    "playbtn = Button(root, text=\"Play\", command=play,bg='yellow',fg='blue')\n",
    "playbtn.grid(row=1, column=0)\n",
    "\n",
    "pausebtn = Button(root, text=\"Pause\", command=pause,bg='yellow',fg='red')\n",
    "pausebtn.grid(row=1, column=1)\n",
    "\n",
    "Resumebtn = Button(root, text=\"Resume\", command=resume,bg='yellow',fg='green')\n",
    "Resumebtn.grid(row=1, column=2)\n",
    "\n",
    "stopbtn = Button(root, text=\"Stop\", command=stop,bg='red',fg='black')\n",
    "stopbtn.grid(row=1, column=3)\n",
    "\n",
    "# To execute the output window\n",
    "mainloop()"
   ]
  },
  {
   "cell_type": "code",
   "execution_count": null,
   "id": "e3575e41-caa3-41f4-ab78-ed29d4d7df63",
   "metadata": {},
   "outputs": [],
   "source": []
  },
  {
   "cell_type": "code",
   "execution_count": null,
   "id": "1679ddea-2c02-4dae-b045-827dc9174251",
   "metadata": {},
   "outputs": [],
   "source": []
  }
 ],
 "metadata": {
  "kernelspec": {
   "display_name": "Python 3 (ipykernel)",
   "language": "python",
   "name": "python3"
  },
  "language_info": {
   "codemirror_mode": {
    "name": "ipython",
    "version": 3
   },
   "file_extension": ".py",
   "mimetype": "text/x-python",
   "name": "python",
   "nbconvert_exporter": "python",
   "pygments_lexer": "ipython3",
   "version": "3.11.4"
  }
 },
 "nbformat": 4,
 "nbformat_minor": 5
}
